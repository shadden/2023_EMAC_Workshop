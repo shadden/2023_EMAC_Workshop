{
 "cells": [
  {
   "cell_type": "markdown",
   "id": "1f9c1ac9",
   "metadata": {
    "slideshow": {
     "slide_type": "slide"
    }
   },
   "source": [
    "# Celestial mechanics with the `celmech` code\n",
    "\n",
    "**Sam Hadden** (CITA)\n",
    "\n",
    "Collaborators: **Dan Tamayo** (Princeton)"
   ]
  },
  {
   "cell_type": "code",
   "execution_count": null,
   "id": "1d2cd0e6",
   "metadata": {
    "slideshow": {
     "slide_type": "skip"
    }
   },
   "outputs": [],
   "source": [
    "%matplotlib inline\n",
    "import matplotlib.pyplot as plt\n",
    "import numpy as np\n",
    "from sympy import init_printing\n",
    "init_printing()"
   ]
  },
  {
   "cell_type": "markdown",
   "id": "0a1977ca",
   "metadata": {
    "slideshow": {
     "slide_type": "slide"
    }
   },
   "source": [
    "# What is `celmech`?\n",
    "\n",
    "- Code for celestial mechanics calculations\n",
    "    - Calculate disturbing function expansion\n",
    "    - Construct, manipulate, and integrate Hamiltonian equations of motion\n",
    "    - Much more...\n",
    "- Developed mainly in `python`\n",
    "- Designed to work with the [`rebound`](https://github.com/hannorein/rebound) N-body code (Rein & Liu 2012)\n",
    "- Symbolic mathematics with [`sympy`](https://www.sympy.org/en/index.html) (Meurer et. al. 2017)"
   ]
  },
  {
   "cell_type": "markdown",
   "id": "3f2166b0",
   "metadata": {
    "slideshow": {
     "slide_type": "slide"
    }
   },
   "source": [
    "# Where is `celmech`?\n",
    "\n",
    "- PyPI: ``pip install celmech``\n",
    "- GitHub reposity at [github.com/shadden/celmech](https://github.com/shadden/celmech) \n",
    "    - Includes lots of Jupyter notebook examples\n",
    "- Documentation at [celmech.readthedocs.io](https://celmech.readthedocs.io)\n",
    "- This notebook is available on [GitHub](https://github.com/shadden/celmech_talk_dda_2022.git)!\n",
    "- Paper in [AJ](https://ui.adsabs.harvard.edu/abs/2022arXiv220510385H/abstract)"
   ]
  },
  {
   "cell_type": "markdown",
   "id": "8b6c5a89",
   "metadata": {
    "slideshow": {
     "slide_type": "slide"
    }
   },
   "source": [
    "# $N$-body codes solve exact equations of motion\n",
    " - Codes like `rebound` integrate $N$-body equations of motion directly: \n",
    "    $$\n",
    "    \\dot{\\mathbf{r}}_i = \\frac{1}{m_i}\\mathbf{p}_i\\\\\n",
    "    \\dot{\\mathbf{p}}_i = -\\sum_{i\\ne j}Gm_im_j\\frac{(\\mathbf{r}_i - \\mathbf{r}_j)}{|\\mathbf{r}_i - \\mathbf{r}_j|^3}\n",
    "    $$"
   ]
  },
  {
   "cell_type": "markdown",
   "id": "20dd5c11",
   "metadata": {
    "slideshow": {
     "slide_type": "slide"
    }
   },
   "source": [
    "# Approximate equations are best for theory\n",
    "\n",
    "- `celmech` works with approximate equations of motion.\n",
    "- Derived from **disturbing function expansion** in powers of $e$ and $s = \\sin(I/2)$:\n",
    " $$\n",
    " \\begin{multline}\n",
    " -\\frac{Gm_im_j}{|\\mathbf{r}_i - \\mathbf{r}_j |} +\\mathrm{indirect~terms^*}\n",
    " =\\\\ \n",
    " -\\frac{Gm_im_j}{a_j}\n",
    "      \\sum_{\\bf k}     \n",
    "     \\sum_{\\nu_1,\\nu_2,\\nu_3,\\nu_4=0}^\\infty                       \n",
    "     \\tilde{C}_{\\bf k}^{{\\nu}}(\\alpha)\n",
    "     s_i^{|k_5|+2\\nu_1}\n",
    "     s_j^{|k_6|+2\\nu_2}\n",
    "     e_i^{|k_3|+2\\nu_3}\n",
    "     e_i^{|k_4|+2\\nu_4}\n",
    "     \\\\\n",
    "     \\times \\cos(k_1\\lambda_j+k_2\\lambda_i+k_3\\varpi_i+k_4\\varpi_j+k_5\\Omega_i+k_6\\Omega_j)\n",
    " \\end{multline}\n",
    "$$\n",
    "\n",
    "- Dynamical models including only a few terms allow theoretical insights (and potentially faster integration)\n",
    "\n",
    "'*': coodinate-system dependent"
   ]
  },
  {
   "cell_type": "code",
   "execution_count": null,
   "id": "eaddf278",
   "metadata": {},
   "outputs": [],
   "source": []
  }
 ],
 "metadata": {
  "celltoolbar": "Slideshow",
  "kernelspec": {
   "display_name": "Python 3 (ipykernel)",
   "language": "python",
   "name": "python3"
  },
  "language_info": {
   "codemirror_mode": {
    "name": "ipython",
    "version": 3
   },
   "file_extension": ".py",
   "mimetype": "text/x-python",
   "name": "python",
   "nbconvert_exporter": "python",
   "pygments_lexer": "ipython3",
   "version": "3.9.7"
  }
 },
 "nbformat": 4,
 "nbformat_minor": 5
}
