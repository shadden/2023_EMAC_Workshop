{
 "cells": [
  {
   "cell_type": "markdown",
   "id": "1f9c1ac9",
   "metadata": {
    "slideshow": {
     "slide_type": "slide"
    }
   },
   "source": [
    "# Celestial mechanics with the `celmech` code\n",
    "\n",
    "**Sam Hadden** (CITA)\n",
    "\n",
    "Collaborators: **Dan Tamayo** (Harvey Mudd), **David Hernandez** (Yale)"
   ]
  },
  {
   "cell_type": "code",
   "execution_count": 1,
   "id": "1d2cd0e6",
   "metadata": {
    "slideshow": {
     "slide_type": "skip"
    }
   },
   "outputs": [],
   "source": [
    "%matplotlib inline\n",
    "import matplotlib.pyplot as plt\n",
    "import numpy as np\n",
    "from sympy import init_printing\n",
    "init_printing()"
   ]
  },
  {
   "cell_type": "markdown",
   "id": "0a1977ca",
   "metadata": {
    "slideshow": {
     "slide_type": "slide"
    }
   },
   "source": [
    "# What is `celmech`?\n",
    "\n",
    "- Code for celestial mechanics calculations\n",
    "    - Calculate disturbing function expansion\n",
    "    - Construct, manipulate, and integrate Hamiltonian equations of motion\n",
    "    - Much more...\n",
    "- Developed mainly in `python`\n",
    "- Designed to work with the [`rebound`](https://github.com/hannorein/rebound) N-body code (Rein & Liu 2012)\n",
    "- Symbolic mathematics with [`sympy`](https://www.sympy.org/en/index.html) (Meurer et. al. 2017)"
   ]
  },
  {
   "cell_type": "markdown",
   "id": "3f2166b0",
   "metadata": {
    "slideshow": {
     "slide_type": "slide"
    }
   },
   "source": [
    "# Where is `celmech`?\n",
    "\n",
    "- PyPI: ``pip install celmech``\n",
    "- GitHub reposity at [github.com/shadden/celmech](https://github.com/shadden/celmech) \n",
    "    - Includes lots of Jupyter notebook examples\n",
    "- Documentation at [celmech.readthedocs.io](https://celmech.readthedocs.io)\n",
    "- This notebook is available on [GitHub](https://github.com/shadden/2023_EMAC_Workshop)!\n",
    "- Paper in [AJ](https://ui.adsabs.harvard.edu/abs/2022arXiv220510385H/abstract)\n",
    "    -  [AAS Journal Author series video](https://www.youtube.com/watch?v=wIRMYtJNLEg&list=PLFhVT3VzlwKrArGdcNhtSCF4NbDBd6K5_&index=14&t=1996s)"
   ]
  },
  {
   "cell_type": "markdown",
   "id": "8b6c5a89",
   "metadata": {
    "slideshow": {
     "slide_type": "slide"
    }
   },
   "source": [
    "# $N$-body codes solve exact equations of motion\n",
    " - Codes like `rebound` integrate $N$-body equations of motion directly: \n",
    "    $$\n",
    "    \\dot{\\mathbf{r}}_i = \\frac{1}{m_i}\\mathbf{p}_i\\\\\n",
    "    \\dot{\\mathbf{p}}_i = -\\sum_{i\\ne j}Gm_im_j\\frac{(\\mathbf{r}_i - \\mathbf{r}_j)}{|\\mathbf{r}_i - \\mathbf{r}_j|^3}\n",
    "    $$"
   ]
  },
  {
   "cell_type": "markdown",
   "id": "e1af790d",
   "metadata": {
    "slideshow": {
     "slide_type": "slide"
    }
   },
   "source": [
    "# Approximate equations are best for theory\n",
    "\n",
    "- `celmech` works with approximate equations of motion.\n",
    "- Derived from **disturbing function expansion** in powers of $e$ and $s = \\sin(I/2)$:\n",
    " $$\n",
    " \\begin{multline}\n",
    " -\\frac{Gm_im_j}{|\\mathbf{r}_i - \\mathbf{r}_j |} +\\mathrm{indirect~terms^*}\n",
    " =\\\\ \n",
    " -\\frac{Gm_im_j}{a_j}\n",
    "      \\sum_{\\bf k}     \n",
    "     \\sum_{\\nu_1,\\nu_2,\\nu_3,\\nu_4=0}^\\infty                       \n",
    "     \\tilde{C}_{\\bf k}^{{\\nu}}(\\alpha)\n",
    "     s_i^{|k_5|+2\\nu_1}\n",
    "     s_j^{|k_6|+2\\nu_2}\n",
    "     e_i^{|k_3|+2\\nu_3}\n",
    "     e_i^{|k_4|+2\\nu_4}\n",
    "     \\\\\n",
    "     \\times \\cos(k_1\\lambda_j+k_2\\lambda_i+k_3\\varpi_i+k_4\\varpi_j+k_5\\Omega_i+k_6\\Omega_j)\n",
    " \\end{multline}\n",
    "$$\n",
    "\n",
    "- Dynamical models including only a few terms allow theoretical insights (and potentially faster integration)\n",
    "\n",
    "'*': coodinate-system dependent"
   ]
  },
  {
   "cell_type": "markdown",
   "id": "70a64b7d",
   "metadata": {
    "slideshow": {
     "slide_type": "slide"
    }
   },
   "source": [
    "# An example..."
   ]
  },
  {
   "cell_type": "markdown",
   "id": "699992d3",
   "metadata": {
    "slideshow": {
     "slide_type": "slide"
    }
   },
   "source": [
    "# Use `rebound` to set up system\n",
    "- We'll initialize a simulation with two Earth-mass planets in a 3:2 mean motion resonance"
   ]
  },
  {
   "cell_type": "code",
   "execution_count": 2,
   "id": "9efe5731",
   "metadata": {},
   "outputs": [
    {
     "data": {
      "image/png": "[encoded data removed]",
      "text/plain": [
       "<Figure size 360x360 with 1 Axes>"
      ]
     },
     "metadata": {
      "needs_background": "light"
     },
     "output_type": "display_data"
    }
   ],
   "source": [
    "import rebound\n",
    "rebound_sim = rebound.Simulation()\n",
    "rebound_sim.add(m=1)\n",
    "rebound_sim.add(m=3e-6,P = 1, e = 0.03)\n",
    "rebound_sim.add(m=3e-6,P = 3 / 2, e = 0.03,l=np.pi / 5,pomega = np.pi)\n",
    "\n",
    "rebound.OrbitPlot(rebound_sim,color=True,periastron=True);"
   ]
  },
  {
   "cell_type": "markdown",
   "id": "bc0b8270",
   "metadata": {
    "slideshow": {
     "slide_type": "slide"
    }
   },
   "source": [
    "# Initialize a ``celmech`` models directly from a `rebound.Simulation`\n"
   ]
  },
  {
   "cell_type": "code",
   "execution_count": 3,
   "id": "55a7d2fb",
   "metadata": {},
   "outputs": [],
   "source": [
    "from celmech import Poincare, PoincareHamiltonian\n",
    "poincare_particles = Poincare.from_Simulation(rebound_sim)\n",
    "Hp = PoincareHamiltonian(poincare_particles)"
   ]
  },
  {
   "cell_type": "markdown",
   "id": "4e40ae06",
   "metadata": {
    "slideshow": {
     "slide_type": "slide"
    }
   },
   "source": [
    "# The ``PoincareHamiltonian`` class represents the system's Hamiltonian"
   ]
  },
  {
   "cell_type": "code",
   "execution_count": 4,
   "id": "06ac50ca",
   "metadata": {},
   "outputs": [
    {
     "data": {
      "text/plain": [
       "celmech.poincare.PoincareHamiltonian"
      ]
     },
     "execution_count": 4,
     "metadata": {},
     "output_type": "execute_result"
    }
   ],
   "source": [
    "type(Hp)"
   ]
  },
  {
   "cell_type": "markdown",
   "id": "9201e0da",
   "metadata": {},
   "source": [
    "- The ``H`` attribute stores the symbolic Hamiltonian"
   ]
  },
  {
   "cell_type": "code",
   "execution_count": 5,
   "id": "b6ebacd4",
   "metadata": {},
   "outputs": [
    {
     "data": {
      "text/latex": [
       "$\\displaystyle - \\frac{G^{2} M_{2}^{2} \\mu_{2}^{3}}{2 \\Lambda_{2}^{2}} - \\frac{G^{2} M_{1}^{2} \\mu_{1}^{3}}{2 \\Lambda_{1}^{2}}$"
      ],
      "text/plain": [
       "   2   2   3    2   2   3\n",
       "  G ⋅M₂ ⋅μ₂    G ⋅M₁ ⋅μ₁ \n",
       "- ────────── - ──────────\n",
       "        2            2   \n",
       "    2⋅Λ₂         2⋅Λ₁    "
      ]
     },
     "execution_count": 5,
     "metadata": {},
     "output_type": "execute_result"
    }
   ],
   "source": [
    "Hp.H"
   ]
  },
  {
   "cell_type": "markdown",
   "id": "5d8e0d0d",
   "metadata": {},
   "source": [
    "- Keplerian terms only upon intialization \n",
    "- I.e., $H = -\\frac{Gm_*m_1}{2a_1}-\\frac{Gm_*m_2}{2a_2}$ when written in orbital elements"
   ]
  },
  {
   "cell_type": "markdown",
   "id": "5ac50529",
   "metadata": {
    "slideshow": {
     "slide_type": "slide"
    }
   },
   "source": [
    "# Building a Hamiltonian\n",
    "- Users build up a Hamiltonian by selecting and adding disturbing function terms\n",
    "- ``PoincareHamiltonian`` includes an extensive interface for specifying and adding terms\n",
    "- We'll add terms for the 3:2 MMR"
   ]
  },
  {
   "cell_type": "code",
   "execution_count": 6,
   "id": "ddd39d46",
   "metadata": {},
   "outputs": [],
   "source": [
    "Hp.add_MMR_terms(p=3,q=1,max_order=1,indexIn=1,indexOut=2)"
   ]
  },
  {
   "cell_type": "markdown",
   "id": "ccf09f76",
   "metadata": {
    "slideshow": {
     "slide_type": "slide"
    }
   },
   "source": [
    "# Building a Hamiltonian\n",
    "- The symbolic Hamiltonian is updated with the newly-added terms"
   ]
  },
  {
   "cell_type": "code",
   "execution_count": 7,
   "id": "8add9763",
   "metadata": {},
   "outputs": [
    {
     "data": {
      "text/latex": [
       "$\\displaystyle - \\frac{C_{(3,-2,-1,0,0,0)}^{(0,0,0,0),(0,0)}(\\alpha_{1,2}) G m_{1} m_{2} \\left(\\frac{\\eta_{1} \\sin{\\left(2 \\lambda_{1} - 3 \\lambda_{2} \\right)}}{\\sqrt{\\Lambda_{1,0}}} + \\frac{\\kappa_{1} \\cos{\\left(2 \\lambda_{1} - 3 \\lambda_{2} \\right)}}{\\sqrt{\\Lambda_{1,0}}}\\right)}{a_{2,0}} - \\frac{C_{(3,-2,0,-1,0,0)}^{(0,0,0,0),(0,0)}(\\alpha_{1,2}) G m_{1} m_{2} \\left(\\frac{\\eta_{2} \\sin{\\left(2 \\lambda_{1} - 3 \\lambda_{2} \\right)}}{\\sqrt{\\Lambda_{2,0}}} + \\frac{\\kappa_{2} \\cos{\\left(2 \\lambda_{1} - 3 \\lambda_{2} \\right)}}{\\sqrt{\\Lambda_{2,0}}}\\right)}{a_{2,0}} - \\frac{G^{2} M_{2}^{2} \\mu_{2}^{3}}{2 \\Lambda_{2}^{2}} - \\frac{G^{2} M_{1}^{2} \\mu_{1}^{3}}{2 \\Lambda_{1}^{2}}$"
      ],
      "text/plain": [
       "                                                               ⎛η₁⋅sin(2⋅λ₁ - 3⋅λ₂)   κ₁⋅cos(2⋅λ₁ - 3⋅λ₂)⎞          \n",
       "  C_{(3,-2,-1,0,0,0)}_{1,2})__{(0,0,0,0),(0,0)}(\\alpha⋅G⋅m₁⋅m₂⋅⎜─────────────────── + ───────────────────⎟   C_{(3,-\n",
       "                                                               ⎜   _______________       _______________ ⎟          \n",
       "                                                               ⎝ ╲╱ \\Lambda_{1,0}      ╲╱ \\Lambda_{1,0}  ⎠          \n",
       "- ──────────────────────────────────────────────────────────────────────────────────────────────────────── - ───────\n",
       "                                                  a_{2,0}                                                           \n",
       "                                                                                                                    \n",
       "\n",
       "                                                      ⎛η₂⋅sin(2⋅λ₁ - 3⋅λ₂)   κ₂⋅cos(2⋅λ₁ - 3⋅λ₂)⎞                   \n",
       "2,0,-1,0,0)}_{1,2})__{(0,0,0,0),(0,0)}(\\alpha⋅G⋅m₁⋅m₂⋅⎜─────────────────── + ───────────────────⎟                   \n",
       "                                                      ⎜   _______________       _______________ ⎟    2   2   3    2 \n",
       "                                                      ⎝ ╲╱ \\Lambda_{2,0}      ╲╱ \\Lambda_{2,0}  ⎠   G ⋅M₂ ⋅μ₂    G ⋅\n",
       "───────────────────────────────────────────────────────────────────────────────────────────────── - ────────── - ───\n",
       "                                         a_{2,0}                                                          2         \n",
       "                                                                                                      2⋅Λ₂         2\n",
       "\n",
       "       \n",
       "       \n",
       "  2   3\n",
       "M₁ ⋅μ₁ \n",
       "───────\n",
       "   2   \n",
       "⋅Λ₁    "
      ]
     },
     "execution_count": 7,
     "metadata": {},
     "output_type": "execute_result"
    }
   ],
   "source": [
    "Hp.H"
   ]
  },
  {
   "cell_type": "markdown",
   "id": "73cbe418",
   "metadata": {
    "slideshow": {
     "slide_type": "slide"
    }
   },
   "source": [
    "# Building a Hamiltonian\n",
    "- Equivalent in terms of orbital elements:"
   ]
  },
  {
   "cell_type": "code",
   "execution_count": 8,
   "id": "8f7a15a6",
   "metadata": {},
   "outputs": [
    {
     "data": {
      "text/latex": [
       "$\\displaystyle -\\frac{Gm_1m_2}{a_{2,0}}\\tilde{C}_{(3,-2,0,-1,0,0)}^{(0,0,0,0)}(\\alpha_{1,2})e_2\\cos(3\\lambda_2-2\\lambda_1-\\varpi_2)-\\frac{Gm_1m_2}{a_{2,0}}\\tilde{C}_{(3,-2,-1,0,0,0)}^{(0,0,0,0)}(\\alpha_{1,2})e_1\\cos(3\\lambda_2-2\\lambda_1-\\varpi_1)$"
      ],
      "text/plain": [
       "<IPython.core.display.Math object>"
      ]
     },
     "metadata": {},
     "output_type": "display_data"
    }
   ],
   "source": [
    "Hp.df"
   ]
  },
  {
   "cell_type": "markdown",
   "id": "187b1137",
   "metadata": {},
   "source": [
    "# Integrating Hamilton's equations\n",
    " - Equations of motion automatically generated from the Hamiltonian\n",
    " - Integration and particle interface designed to mirror ``rebound``"
   ]
  },
  {
   "cell_type": "code",
   "execution_count": 9,
   "id": "3f25eb28",
   "metadata": {},
   "outputs": [],
   "source": [
    "rebound_particles = rebound_sim.particles\n",
    "celmech_particles = Hp.particles\n",
    "\n",
    "# times to save output\n",
    "times = np.linspace(0,2500 * rebound_particles[1].P,100)\n",
    "\n",
    "# Arrays to store results\n",
    "theta_rebound = np.zeros(100)\n",
    "theta_celmech = np.zeros(100)\n",
    "\n",
    "# Main integration loop\n",
    "for i,t in enumerate(times):\n",
    "    # advance simulations\n",
    "    rebound_sim.integrate(t)\n",
    "    Hp.integrate(t)\n",
    "    # save resonant angle \n",
    "    theta_celmech[i] = 3 * celmech_particles[2].l - 2 * celmech_particles[1].l - celmech_particles[1].pomega\n",
    "    theta_rebound[i] = 3 * rebound_particles[2].l - 2 * rebound_particles[1].l - rebound_particles[1].pomega\n",
    "\n"
   ]
  },
  {
   "cell_type": "markdown",
   "id": "97de4f38",
   "metadata": {
    "slideshow": {
     "slide_type": "slide"
    }
   },
   "source": [
    "# Comparing $N$-body and ``celmech``\n",
    "- Plot the values of the resonant angle \n",
    "    $$\\theta_\\mathrm{res,1} = 3\\lambda_2 - 2\\lambda_1 - \\varpi_1$$\n",
    "    recorded from the integrations"
   ]
  },
  {
   "cell_type": "code",
   "execution_count": 10,
   "id": "f1a87371",
   "metadata": {
    "slideshow": {
     "slide_type": "skip"
    }
   },
   "outputs": [],
   "source": [
    "wrap2pi = lambda x: 180 * (np.mod(x+np.pi,2*np.pi)-np.pi)/np.pi\n",
    "theta_celmech = wrap2pi(theta_celmech)\n",
    "theta_rebound = wrap2pi(theta_rebound)"
   ]
  },
  {
   "cell_type": "code",
   "execution_count": 11,
   "id": "50ff58d1",
   "metadata": {
    "slideshow": {
     "slide_type": "skip"
    }
   },
   "outputs": [
    {
     "data": {
      "text/latex": [
       "$\\displaystyle \\left( -180.0, \\  180.0\\right)$"
      ],
      "text/plain": [
       "(-180.0, 180.0)"
      ]
     },
     "execution_count": 11,
     "metadata": {},
     "output_type": "execute_result"
    },
    {
     "data": {
      "image/png": "[encoded data removed]",
      "text/plain": [
       "<Figure size 576x360 with 1 Axes>"
      ]
     },
     "metadata": {
      "needs_background": "light"
     },
     "output_type": "display_data"
    }
   ],
   "source": [
    "fig,ax = plt.subplots(1,sharex=True,figsize=(8,5))\n",
    "plt.tick_params(labelsize=15,direction='in',size=8)\n",
    "ax.plot(times,theta_rebound,color='k',lw=2,label='rebound')\n",
    "ax.plot(times,theta_celmech,color='r',lw=2,label='celmech')\n",
    "ax.set_ylabel(r\"$\\theta_\\mathrm{res}$ [deg.]\",fontsize=20)\n",
    "ax.legend(fontsize=12)\n",
    "ax.set_xlabel(r\"Time [$P_\\mathrm{in}$]\",fontsize=20);\n",
    "ax.set_ylim(-180,180)"
   ]
  },
  {
   "cell_type": "markdown",
   "id": "97b016b7",
   "metadata": {
    "slideshow": {
     "slide_type": "slide"
    }
   },
   "source": [
    "## But wait, there's more!\n",
    " - **Canonical transformations**\n",
    "     - Automate many common transformations\n",
    "     - Lie-series transformations\n",
    " - **Secular theory**\n",
    "     - Laplace-Lagrange theory (including 2nd order in mass)\n",
    "     - Non-linear secular equations\n",
    "         - Symplectic integration\n",
    "         - Second order in mass\n",
    " - **Mean motion resonance**\n",
    "     - Transform to \"Andoyer\" Hamiltonian\n",
    "     - Numerically-averaged resonance equations\n",
    "         - No expansion in $e$ and $I$\n",
    "         - Supports dissipative forces\n",
    " - And **more**! (resonant chains, TTVs, frequency analysis, AMD,...)"
   ]
  },
  {
   "cell_type": "code",
   "execution_count": null,
   "id": "136b0a91",
   "metadata": {
    "slideshow": {
     "slide_type": "slide"
    }
   },
   "outputs": [],
   "source": []
  },
  {
   "cell_type": "markdown",
   "id": "3215f3de",
   "metadata": {
    "slideshow": {
     "slide_type": "slide"
    }
   },
   "source": [
    "# The ``Poincare`` class represents the system's dynamical state\n",
    "- The `Poincare` class uses canonical action-angle variable pairs:\n",
    " $$\\begin{align}\n",
    " \\Lambda_i&= \\mu_i\\sqrt{GM_ia_i} ~;~ \\lambda_i \\\\\n",
    " (\\eta_i,\\kappa_i)&\\approx \\sqrt{\\Lambda_i}e_i \\times(-\\sin\\varpi_i,\\cos\\varpi_i)\\\\\n",
    "  (\\rho_i,\\sigma_i)&\\approx \\sqrt{\\Lambda_i}\\sin(I_i/2) \\times(-\\sin\\Omega_i,\\cos\\Omega_i)\\\\\n",
    " \\end{align}$$"
   ]
  },
  {
   "cell_type": "code",
   "execution_count": 12,
   "id": "5d149727",
   "metadata": {},
   "outputs": [
    {
     "data": {
      "text/plain": [
       "celmech.poincare.Poincare"
      ]
     },
     "execution_count": 12,
     "metadata": {},
     "output_type": "execute_result"
    }
   ],
   "source": [
    "type(poincare_particles)"
   ]
  },
  {
   "cell_type": "code",
   "execution_count": 13,
   "id": "1621a94a",
   "metadata": {},
   "outputs": [
    {
     "data": {
      "text/latex": [
       "$\\displaystyle \\left[ \\left( \\lambda_{1}, \\  \\Lambda_{1}\\right), \\  \\left( \\eta_{1}, \\  \\kappa_{1}\\right), \\  \\left( \\rho_{1}, \\  \\sigma_{1}\\right), \\  \\left( \\lambda_{2}, \\  \\Lambda_{2}\\right), \\  \\left( \\eta_{2}, \\  \\kappa_{2}\\right), \\  \\left( \\rho_{2}, \\  \\sigma_{2}\\right)\\right]$"
      ],
      "text/plain": [
       "[(λ₁, Λ₁), (η₁, κ₁), (ρ₁, σ₁), (λ₂, Λ₂), (η₂, κ₂), (ρ₂, σ₂)]"
      ]
     },
     "execution_count": 13,
     "metadata": {},
     "output_type": "execute_result"
    }
   ],
   "source": [
    "# Canonical coordinate-momentum pairs of system\n",
    "qp_pairs = poincare_particles.qp_pairs\n",
    "qp_pairs"
   ]
  },
  {
   "cell_type": "markdown",
   "id": "59394469",
   "metadata": {
    "slideshow": {
     "slide_type": "slide"
    }
   },
   "source": [
    "# The ``Poincare`` class represents the system's dynamical state\n",
    "- Stores numerical values of canonical variables"
   ]
  },
  {
   "cell_type": "code",
   "execution_count": 14,
   "id": "cff17f8e",
   "metadata": {},
   "outputs": [
    {
     "data": {
      "text/latex": [
       "$\\displaystyle \\left( \\Lambda_{1}, \\  1.62629762768238 \\cdot 10^{-6}\\right)$"
      ],
      "text/plain": [
       "(Λ₁, 1.626297627682381e-06)"
      ]
     },
     "execution_count": 14,
     "metadata": {},
     "output_type": "execute_result"
    }
   ],
   "source": [
    "Lambda1 = qp_pairs[0][1]\n",
    "Lambda1, poincare_particles.qp[Lambda1]"
   ]
  },
  {
   "cell_type": "markdown",
   "id": "7b73db5e",
   "metadata": {},
   "source": [
    "- Also provides orbital mass, orbital elements, etc."
   ]
  },
  {
   "cell_type": "code",
   "execution_count": 15,
   "id": "dafb133f",
   "metadata": {},
   "outputs": [
    {
     "data": {
      "text/latex": [
       "$\\displaystyle 1.62629762768238 \\cdot 10^{-6}$"
      ],
      "text/plain": [
       "1.6262976276823807e-06"
      ]
     },
     "execution_count": 15,
     "metadata": {},
     "output_type": "execute_result"
    }
   ],
   "source": [
    "G = poincare_particles.G\n",
    "particle = poincare_particles.particles[1]\n",
    "particle.mu * np.sqrt(G * particle.M * particle.a)"
   ]
  },
  {
   "cell_type": "code",
   "execution_count": null,
   "id": "c7e25b50",
   "metadata": {},
   "outputs": [],
   "source": []
  }
 ],
 "metadata": {
  "celltoolbar": "Slideshow",
  "kernelspec": {
   "display_name": "Python 3 (ipykernel)",
   "language": "python",
   "name": "python3"
  },
  "language_info": {
   "codemirror_mode": {
    "name": "ipython",
    "version": 3
   },
   "file_extension": ".py",
   "mimetype": "text/x-python",
   "name": "python",
   "nbconvert_exporter": "python",
   "pygments_lexer": "ipython3",
   "version": "3.9.7"
  }
 },
 "nbformat": 4,
 "nbformat_minor": 5
}
